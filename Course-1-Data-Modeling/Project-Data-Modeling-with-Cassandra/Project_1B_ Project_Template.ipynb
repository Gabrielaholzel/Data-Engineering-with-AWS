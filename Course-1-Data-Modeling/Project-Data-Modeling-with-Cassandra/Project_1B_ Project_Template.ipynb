{
 "cells": [
  {
   "cell_type": "markdown",
   "metadata": {},
   "source": [
    "# Part I. ETL Pipeline for Pre-Processing the Files"
   ]
  },
  {
   "cell_type": "markdown",
   "metadata": {},
   "source": [
    "## PLEASE RUN THE FOLLOWING CODE FOR PRE-PROCESSING THE FILES"
   ]
  },
  {
   "cell_type": "markdown",
   "metadata": {},
   "source": [
    "#### Import Python packages "
   ]
  },
  {
   "cell_type": "code",
   "execution_count": 1,
   "metadata": {},
   "outputs": [],
   "source": [
    "import pandas as pd\n",
    "import cassandra\n",
    "import re\n",
    "import os\n",
    "import glob\n",
    "import numpy as np\n",
    "import json\n",
    "import csv"
   ]
  },
  {
   "cell_type": "markdown",
   "metadata": {},
   "source": [
    "#### Creating list of filepaths to process original event csv data files\n",
    "To do this, we first check if we are working in the right directory. "
   ]
  },
  {
   "cell_type": "code",
   "execution_count": 2,
   "metadata": {},
   "outputs": [
    {
     "data": {
      "text/plain": [
       "'/workspace/home'"
      ]
     },
     "execution_count": 2,
     "metadata": {},
     "output_type": "execute_result"
    }
   ],
   "source": [
    "os.getcwd()"
   ]
  },
  {
   "cell_type": "markdown",
   "metadata": {},
   "source": [
    "Now we get our current folder and subfolder event data. Next, we create a for loop to create a list of files and collect each filepath. In said for, we join the file path and roots with the subdirectories using a glob."
   ]
  },
  {
   "cell_type": "code",
   "execution_count": 3,
   "metadata": {},
   "outputs": [],
   "source": [
    "filepath = os.getcwd() + '/event_data'\n",
    "\n",
    "for root, dirs, files in os.walk(filepath):\n",
    "    file_path_list = glob.glob(os.path.join(root,'*'))"
   ]
  },
  {
   "cell_type": "markdown",
   "metadata": {},
   "source": [
    "#### Processing the files to create the data file csv that will be used for Apache Casssandra tables"
   ]
  },
  {
   "cell_type": "markdown",
   "metadata": {},
   "source": [
    "To process the files, we initiate an empty list. In this list, we append each data row by row. To achieve this, we create a for loop iterating over the list of files that we've generated. Within each iteration, we read the CSV file using a `reader` object and extract the data."
   ]
  },
  {
   "cell_type": "code",
   "execution_count": 4,
   "metadata": {},
   "outputs": [],
   "source": [
    "full_data_rows_list = [] \n",
    "    \n",
    "for f in file_path_list:\n",
    "    with open(f, 'r', encoding = 'utf8', newline='') as csvfile: \n",
    "        csvreader = csv.reader(csvfile) \n",
    "        next(csvreader)\n",
    "        \n",
    "        for line in csvreader:\n",
    "            full_data_rows_list.append(line) "
   ]
  },
  {
   "cell_type": "markdown",
   "metadata": {},
   "source": [
    "We create a smaller event data csv file called `event_datafile_full.csv` that will be used to insert data into the Apache Cassandra tables."
   ]
  },
  {
   "cell_type": "code",
   "execution_count": 5,
   "metadata": {},
   "outputs": [],
   "source": [
    "csv.register_dialect('myDialect', quoting=csv.QUOTE_ALL, skipinitialspace=True)\n",
    "\n",
    "with open('event_datafile_new.csv', 'w', encoding = 'utf8', newline='') as f:\n",
    "    writer = csv.writer(f, dialect='myDialect')\n",
    "    writer.writerow(['artist','firstName','gender','itemInSession','lastName','length',\\\n",
    "                'level','location','sessionId','song','userId'])\n",
    "    for row in full_data_rows_list:\n",
    "        if (row[0] == ''):\n",
    "            continue\n",
    "        writer.writerow((row[0], row[2], row[3], row[4], row[5], row[6], row[7], row[8], row[12], row[13], row[16]))"
   ]
  },
  {
   "cell_type": "markdown",
   "metadata": {},
   "source": [
    "#### Checking the structures we will be working with\n",
    "We start by getting total number of rows."
   ]
  },
  {
   "cell_type": "code",
   "execution_count": 6,
   "metadata": {},
   "outputs": [
    {
     "data": {
      "text/plain": [
       "8056"
      ]
     },
     "execution_count": 6,
     "metadata": {},
     "output_type": "execute_result"
    }
   ],
   "source": [
    "len(full_data_rows_list)"
   ]
  },
  {
   "cell_type": "markdown",
   "metadata": {},
   "source": [
    "Next, checking the first element to see what the list of event data rows will look like. We can see that every element is a string, so we will need to change it to the appropriate format in the future."
   ]
  },
  {
   "cell_type": "code",
   "execution_count": 7,
   "metadata": {},
   "outputs": [
    {
     "data": {
      "text/plain": [
       "['Muse',\n",
       " 'Logged In',\n",
       " 'Jordan',\n",
       " 'F',\n",
       " '3',\n",
       " 'Hicks',\n",
       " '259.26485',\n",
       " 'free',\n",
       " 'Salinas, CA',\n",
       " 'PUT',\n",
       " 'NextSong',\n",
       " '1.54001E+12',\n",
       " '814',\n",
       " 'Supermassive Black Hole [Phones Control Voltage Remix]',\n",
       " '200',\n",
       " '1.54319E+12',\n",
       " '37']"
      ]
     },
     "execution_count": 7,
     "metadata": {},
     "output_type": "execute_result"
    }
   ],
   "source": [
    "full_data_rows_list[0]"
   ]
  },
  {
   "cell_type": "markdown",
   "metadata": {},
   "source": [
    "Lastly, checking the number of rows in the smaller csv file."
   ]
  },
  {
   "cell_type": "code",
   "execution_count": 8,
   "metadata": {},
   "outputs": [
    {
     "name": "stdout",
     "output_type": "stream",
     "text": [
      "6821\n"
     ]
    }
   ],
   "source": [
    "with open('event_datafile_new.csv', 'r', encoding = 'utf8') as f:\n",
    "    print(sum(1 for line in f))"
   ]
  },
  {
   "cell_type": "markdown",
   "metadata": {},
   "source": [
    "# Part II. Complete the Apache Cassandra coding portion of your project. \n",
    "\n",
    "## Now you are ready to work with the CSV file titled <font color=red>event_datafile_new.csv</font>, located within the Workspace directory.  The event_datafile_new.csv contains the following columns: \n",
    "- artist \n",
    "- firstName of user\n",
    "- gender of user\n",
    "- item number in session\n",
    "- last name of user\n",
    "- length of the song\n",
    "- level (paid or free song)\n",
    "- location of the user\n",
    "- sessionId\n",
    "- song title\n",
    "- userId\n",
    "\n",
    "The image below is a screenshot of what the denormalized data should appear like in the <font color=red>**event_datafile_new.csv**</font> after the code above is run:<br>\n",
    "\n",
    "<img src=\"images/image_event_datafile_new.jpg\">"
   ]
  },
  {
   "cell_type": "markdown",
   "metadata": {},
   "source": [
    "# Starting the Project\n",
    "To begin the ETL, we need to complete the set up to the Cassandra database. This is a three-step process, consisting of the following:"
   ]
  },
  {
   "cell_type": "markdown",
   "metadata": {},
   "source": [
    "#### 1. Creating a Cluster\n",
    "This connects to our local instance of Apache Cassandra. This connection will reach out to the database and insure we have the correct privileges to connect to this database. Once we get back the cluster object, we need to connect to it and that will create our session that we will use to execute queries."
   ]
  },
  {
   "cell_type": "code",
   "execution_count": 9,
   "metadata": {},
   "outputs": [],
   "source": [
    "from cassandra.cluster import Cluster\n",
    "cluster = Cluster()\n",
    "session = cluster.connect()"
   ]
  },
  {
   "cell_type": "markdown",
   "metadata": {},
   "source": [
    "#### 2. Creating a Keyspace\n",
    "The Keyspace is like our database. We need to create it first to be able to create our tables. "
   ]
  },
  {
   "cell_type": "code",
   "execution_count": 10,
   "metadata": {},
   "outputs": [],
   "source": [
    "try:\n",
    "    session.execute(\"\"\"\n",
    "                    CREATE KEYSPACE IF NOT EXISTS udacity\n",
    "                    WITH REPLICATION = \n",
    "                    {'class' : 'SimpleStrategy', 'replication_factor': 1}\n",
    "                    \"\"\"\n",
    "                   )\n",
    "except Exception as e:\n",
    "    print(e)"
   ]
  },
  {
   "cell_type": "markdown",
   "metadata": {},
   "source": [
    "#### 3. Set Keyspace\n",
    "We set the Keyspace created as the database that we will be using. "
   ]
  },
  {
   "cell_type": "code",
   "execution_count": 11,
   "metadata": {},
   "outputs": [],
   "source": [
    "try:\n",
    "    session.set_keyspace('udacity')\n",
    "except Exception as e:\n",
    "    print(e)"
   ]
  },
  {
   "cell_type": "markdown",
   "metadata": {},
   "source": [
    "## Instructions: \n",
    "Create queries to ask the following three questions of the data.\n",
    "\n",
    "### 1. Get the artist, song title and song's length in the music app history that was heard during  sessionId = 338, and itemInSession  = 4"
   ]
  },
  {
   "cell_type": "markdown",
   "metadata": {},
   "source": [
    "To do this, we create a table called `session_history`. Since we will be filtering based on the `session_id` and `item_in_session`, we include both columns as we will use them as our `PRIMARY KEY`s. Furthermore, we need to get the `artist_name`, `song_title` and `song_length`, so we will also include these columns. <u>We should always keep in mind that we model the database tables on the queries we want to run</u>.\n",
    "\n",
    "Moreover, we add an execution of the query `DROP TABLE IF EXISTS` before the creation query, to be able to modify the create query easily. "
   ]
  },
  {
   "cell_type": "code",
   "execution_count": 12,
   "metadata": {},
   "outputs": [],
   "source": [
    "session_history_create = \"CREATE TABLE IF NOT EXISTS session_history \"\n",
    "session_history_create += \"(\\\n",
    "                            session_id int, \\\n",
    "                            item_in_session int, \\\n",
    "                            artist_name text, \\\n",
    "                            song_title text, \\\n",
    "                            song_length float, \\\n",
    "                            PRIMARY KEY (session_id, item_in_session) \\\n",
    "                            )\"\n",
    "\n",
    "try:\n",
    "    session.execute(\"DROP TABLE IF EXISTS session_history\")\n",
    "    session.execute(session_history_create)\n",
    "except Exception as e:\n",
    "    print(e)  "
   ]
  },
  {
   "cell_type": "markdown",
   "metadata": {},
   "source": [
    "Next, we read the file with a `reader` object (skipping the header), to insert the values read into the created table. To do this, we select which column element will be assigned for each column in the `INSERT` statement. For example, the first column of the table is `session_id`, which correspond with `line[8]` in our CSV file. Moreover, every element is a string, so we change it accordingly for the non-text columns."
   ]
  },
  {
   "cell_type": "code",
   "execution_count": 13,
   "metadata": {
    "scrolled": true
   },
   "outputs": [],
   "source": [
    "file = 'event_datafile_new.csv'\n",
    "\n",
    "with open(file, encoding = 'utf8') as f:\n",
    "    csvreader = csv.reader(f)\n",
    "    next(csvreader) \n",
    "    for line in csvreader:\n",
    "        query = \"INSERT INTO session_history (session_id, item_in_session, artist_name, song_title, song_length)\"\n",
    "        query = query + \"VALUES (%s, %s, %s, %s, %s)\"\n",
    "        session.execute(query, (int(line[8]), int(line[3]), line[0], line[9], round(float(line[5]),2)))"
   ]
  },
  {
   "cell_type": "markdown",
   "metadata": {},
   "source": [
    "As to retreive the information requested, we perform a `SELECT` statement with the appropriate `WHERE` clause.\n",
    "\n",
    "We can see that during `session_id = 338` and `item_in_session = 4`, the artist that was heard was *Faithless*, the song's name is *Music Matters (Mark Knight Dub)* and the length of the song is of *495.31*."
   ]
  },
  {
   "cell_type": "code",
   "execution_count": 14,
   "metadata": {
    "scrolled": true
   },
   "outputs": [
    {
     "name": "stdout",
     "output_type": "stream",
     "text": [
      "Faithless Music Matters (Mark Knight Dub) 495.30999755859375\n"
     ]
    }
   ],
   "source": [
    "try:\n",
    "    rows = session.execute(\"SELECT \\\n",
    "                                artist_name, \\\n",
    "                                song_title, \\\n",
    "                                song_length \\\n",
    "                            FROM \\\n",
    "                                session_history \\\n",
    "                            WHERE \\\n",
    "                                session_id = 338 \\\n",
    "                                AND item_in_session = 4\")\n",
    "except Exception as e:\n",
    "    print(e)  \n",
    "\n",
    "for row in rows:\n",
    "    print(row.artist_name, row.song_title, row.song_length)"
   ]
  },
  {
   "cell_type": "markdown",
   "metadata": {},
   "source": [
    "### 2. Get the following: name of artist, song (sorted by itemInSession) and user (first and last name) for userid = 10, sessionid = 182\n",
    "This time, we create a table called `user_artist_history`. Since we will be filtering based on the `user_id` and `session_id`, we include both columns as we will use them as our `PRIMARY KEY`s. We also include the column `item_in_session` as a clustered column for sorting purposes. \n",
    "\n",
    "Furthermore, we need to get the `artist_name`, `song_title`, `user_first` (for the user's first name) and `user_last` (for the user's last name), so we will also include these columns. \n",
    "\n",
    "Once again, we add an execution of the query `DROP TABLE IF EXISTS` before the creation query, to be able to modify the create query easily. "
   ]
  },
  {
   "cell_type": "code",
   "execution_count": 15,
   "metadata": {},
   "outputs": [],
   "source": [
    "user_artist_history_create = \"CREATE TABLE IF NOT EXISTS user_artist_history \"\n",
    "user_artist_history_create += \"(\\\n",
    "                            user_id int, \\\n",
    "                            session_id int, \\\n",
    "                            item_in_session int, \\\n",
    "                            artist_name text, \\\n",
    "                            song_title text, \\\n",
    "                            user_first text, \\\n",
    "                            user_last text, \\\n",
    "                            PRIMARY KEY ((user_id, session_id), item_in_session) \\\n",
    "                            )\"\n",
    "try:\n",
    "    session.execute(\"DROP TABLE IF EXISTS user_artist_history\")\n",
    "    session.execute(user_artist_history_create)\n",
    "except Exception as e:\n",
    "    print(e)            "
   ]
  },
  {
   "cell_type": "markdown",
   "metadata": {},
   "source": [
    "Once more, we execute the `INSERT INTO` statement the same way as we did with the previous table."
   ]
  },
  {
   "cell_type": "code",
   "execution_count": 16,
   "metadata": {},
   "outputs": [],
   "source": [
    "with open(file, encoding = 'utf8') as f:\n",
    "    csvreader = csv.reader(f)\n",
    "    next(csvreader) \n",
    "    for line in csvreader:\n",
    "        query = \"INSERT INTO user_artist_history (\\\n",
    "                                                  user_id, \\\n",
    "                                                  session_id, \\\n",
    "                                                  item_in_session, \\\n",
    "                                                  artist_name, \\\n",
    "                                                  song_title, \\\n",
    "                                                  user_first, \\\n",
    "                                                  user_last)\"\n",
    "        query = query + \"VALUES (%s, %s, %s, %s, %s, %s, %s)\"\n",
    "        session.execute(query, (int(line[10]), int(line[8]), int(line[3]), line[0], line[9], line[1], line[4]))"
   ]
  },
  {
   "cell_type": "markdown",
   "metadata": {},
   "source": [
    "Finally, we execute the `SELECT` statement to retreive the information inquired with the appropriate `WHERE` clause.\n",
    "\n",
    "We can observe that the user *Sylvie Cruz*, corresponding to the `user_id = 10`, has listened to four songs from different artists during `session_id = 182`."
   ]
  },
  {
   "cell_type": "code",
   "execution_count": 17,
   "metadata": {},
   "outputs": [
    {
     "name": "stdout",
     "output_type": "stream",
     "text": [
      "Down To The Bone Keep On Keepin' On Sylvie Cruz\n",
      "Three Drives Greece 2000 Sylvie Cruz\n",
      "Sebastien Tellier Kilometer Sylvie Cruz\n",
      "Lonnie Gordon Catch You Baby (Steve Pitron & Max Sanna Radio Edit) Sylvie Cruz\n"
     ]
    }
   ],
   "source": [
    "try:\n",
    "    rows = session.execute(\"SELECT \\\n",
    "                                artist_name, \\\n",
    "                                song_title, \\\n",
    "                                user_first, \\\n",
    "                                user_last \\\n",
    "                            FROM \\\n",
    "                                user_artist_history \\\n",
    "                            WHERE \\\n",
    "                                user_id = 10 \\\n",
    "                                AND session_id = 182\")\n",
    "except Exception as e:\n",
    "    print(e)  \n",
    "\n",
    "for row in rows:\n",
    "    print(row.artist_name, row.song_title, row.user_first, row.user_last)"
   ]
  },
  {
   "cell_type": "markdown",
   "metadata": {},
   "source": [
    "### 3. Get every user name (first and last) in my music app history who listened to the song 'All Hands Against His Own'\n",
    "\n",
    "For this last activity, we create a table called `user_history`. Again, we will be filtering based on the `song_title`, so we include this column as well to use it as one of our `PRIMARY KEY`s. We also include the column `user_id` as a `PRIMARY KEY`, since many users can listen to the same song, and we will need to store all of these records in our table.\n",
    "\n",
    "Furthermore, we need to get the `user_first` and `user_last`, so we will also include these columns. \n",
    "\n",
    "Once again, we add an execution of the query `DROP TABLE IF EXISTS` before the creation query, to be able to modify the create query easily. "
   ]
  },
  {
   "cell_type": "code",
   "execution_count": 18,
   "metadata": {},
   "outputs": [],
   "source": [
    "user_history_create = \"CREATE TABLE IF NOT EXISTS user_history \"\n",
    "user_history_create += \"(\\\n",
    "                            song_title text, \\\n",
    "                            user_id int, \\\n",
    "                            user_first text, \\\n",
    "                            user_last text, \\\n",
    "                            PRIMARY KEY (song_title, user_id) \\\n",
    "                            )\"\n",
    "try:\n",
    "    session.execute(\"DROP TABLE IF EXISTS user_history\")\n",
    "    session.execute(user_history_create)\n",
    "except Exception as e:\n",
    "    print(e)          "
   ]
  },
  {
   "cell_type": "markdown",
   "metadata": {},
   "source": [
    "Finally, we execute the appropriate `INSERT INTO` statement."
   ]
  },
  {
   "cell_type": "code",
   "execution_count": 19,
   "metadata": {},
   "outputs": [],
   "source": [
    "with open(file, encoding = 'utf8') as f:\n",
    "    csvreader = csv.reader(f)\n",
    "    next(csvreader) \n",
    "    for line in csvreader:\n",
    "        query = \"INSERT INTO user_history (\\\n",
    "                                           song_title, \\\n",
    "                                           user_id, \\\n",
    "                                           user_first, \\\n",
    "                                           user_last)\"\n",
    "        query = query + \"VALUES (%s, %s, %s, %s)\"\n",
    "        session.execute(query, (line[9], int(line[10]), line[1], line[4]))"
   ]
  },
  {
   "cell_type": "markdown",
   "metadata": {},
   "source": [
    "And we get the information requested using an `SELECT` statement with the suitable `WHERE` clause. We can see that there were three users that have heard this song."
   ]
  },
  {
   "cell_type": "code",
   "execution_count": 20,
   "metadata": {},
   "outputs": [
    {
     "name": "stdout",
     "output_type": "stream",
     "text": [
      "Jacqueline Lynch\n",
      "Tegan Levine\n",
      "Sara Johnson\n"
     ]
    }
   ],
   "source": [
    "try:\n",
    "    rows = session.execute(\"SELECT \\\n",
    "                                user_first, \\\n",
    "                                user_last \\\n",
    "                            FROM \\\n",
    "                                user_history \\\n",
    "                            WHERE \\\n",
    "                                song_title = 'All Hands Against His Own'\")\n",
    "except Exception as e:\n",
    "    print(e)  \n",
    "\n",
    "for row in rows:\n",
    "    print(row.user_first, row.user_last)"
   ]
  },
  {
   "cell_type": "markdown",
   "metadata": {},
   "source": [
    "### Cleaning"
   ]
  },
  {
   "cell_type": "markdown",
   "metadata": {},
   "source": [
    "To clear the space, we drop the three tables created and close out the sessions. We do this using a for loop with a `DROP TABLE` query iterating over the tables created. "
   ]
  },
  {
   "cell_type": "code",
   "execution_count": 21,
   "metadata": {},
   "outputs": [],
   "source": [
    "tables = ['session_history', 'user_artist_history', 'user_history']\n",
    "\n",
    "try:\n",
    "    for table in tables:\n",
    "        session.execute(\"DROP TABLE IF EXISTS \" + table)\n",
    "except Exception as e:\n",
    "    print(e)"
   ]
  },
  {
   "cell_type": "markdown",
   "metadata": {},
   "source": [
    "We shut down the session as well as the cluster."
   ]
  },
  {
   "cell_type": "code",
   "execution_count": 22,
   "metadata": {},
   "outputs": [],
   "source": [
    "session.shutdown()\n",
    "cluster.shutdown()"
   ]
  }
 ],
 "metadata": {
  "kernelspec": {
   "display_name": "Python 3",
   "language": "python",
   "name": "python3"
  },
  "language_info": {
   "codemirror_mode": {
    "name": "ipython",
    "version": 3
   },
   "file_extension": ".py",
   "mimetype": "text/x-python",
   "name": "python",
   "nbconvert_exporter": "python",
   "pygments_lexer": "ipython3",
   "version": "3.6.3"
  }
 },
 "nbformat": 4,
 "nbformat_minor": 2
}
